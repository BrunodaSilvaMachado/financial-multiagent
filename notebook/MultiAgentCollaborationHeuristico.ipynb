{
 "cells": [
  {
   "cell_type": "code",
   "execution_count": 7,
   "id": "a631134c-e3fd-46cd-9e39-e31dbedfb2f2",
   "metadata": {},
   "outputs": [],
   "source": [
    "import pandas as pd\n",
    "import numpy as np\n",
    "from typing import Dict, Any\n",
    "import random"
   ]
  },
  {
   "cell_type": "code",
   "execution_count": 2,
   "id": "0302f875-17e5-4ea8-8ff8-b62c94cddc2e",
   "metadata": {},
   "outputs": [
    {
     "data": {
      "text/html": [
       "<div>\n",
       "<style scoped>\n",
       "    .dataframe tbody tr th:only-of-type {\n",
       "        vertical-align: middle;\n",
       "    }\n",
       "\n",
       "    .dataframe tbody tr th {\n",
       "        vertical-align: top;\n",
       "    }\n",
       "\n",
       "    .dataframe thead th {\n",
       "        text-align: right;\n",
       "    }\n",
       "</style>\n",
       "<table border=\"1\" class=\"dataframe\">\n",
       "  <thead>\n",
       "    <tr style=\"text-align: right;\">\n",
       "      <th></th>\n",
       "      <th>date</th>\n",
       "      <th>ticker</th>\n",
       "      <th>close</th>\n",
       "      <th>volume</th>\n",
       "    </tr>\n",
       "  </thead>\n",
       "  <tbody>\n",
       "    <tr>\n",
       "      <th>0</th>\n",
       "      <td>2025-01-02</td>\n",
       "      <td>AAPL</td>\n",
       "      <td>172.30</td>\n",
       "      <td>52000000</td>\n",
       "    </tr>\n",
       "    <tr>\n",
       "      <th>1</th>\n",
       "      <td>2025-01-03</td>\n",
       "      <td>AAPL</td>\n",
       "      <td>173.10</td>\n",
       "      <td>48200000</td>\n",
       "    </tr>\n",
       "    <tr>\n",
       "      <th>2</th>\n",
       "      <td>2025-01-06</td>\n",
       "      <td>AAPL</td>\n",
       "      <td>171.85</td>\n",
       "      <td>49500000</td>\n",
       "    </tr>\n",
       "    <tr>\n",
       "      <th>3</th>\n",
       "      <td>2025-01-07</td>\n",
       "      <td>AAPL</td>\n",
       "      <td>174.25</td>\n",
       "      <td>51000000</td>\n",
       "    </tr>\n",
       "    <tr>\n",
       "      <th>4</th>\n",
       "      <td>2025-01-08</td>\n",
       "      <td>AAPL</td>\n",
       "      <td>175.00</td>\n",
       "      <td>53000000</td>\n",
       "    </tr>\n",
       "  </tbody>\n",
       "</table>\n",
       "</div>"
      ],
      "text/plain": [
       "        date ticker   close    volume\n",
       "0 2025-01-02   AAPL  172.30  52000000\n",
       "1 2025-01-03   AAPL  173.10  48200000\n",
       "2 2025-01-06   AAPL  171.85  49500000\n",
       "3 2025-01-07   AAPL  174.25  51000000\n",
       "4 2025-01-08   AAPL  175.00  53000000"
      ]
     },
     "execution_count": 2,
     "metadata": {},
     "output_type": "execute_result"
    }
   ],
   "source": [
    "prices = pd.read_csv(\"../app/data/sample_prices.csv\", parse_dates=[\"date\"])\n",
    "prices.head()\n"
   ]
  },
  {
   "cell_type": "code",
   "execution_count": 3,
   "id": "906205b1-afa1-4320-b9e9-56c6e3276fe7",
   "metadata": {},
   "outputs": [],
   "source": [
    "class MarketAgent:\n",
    "    def __init__(self, data: pd.DataFrame):\n",
    "        self.data = data\n",
    "\n",
    "    def run(self, ticker: str) -> Dict[str, Any]:\n",
    "        df = self.data[self.data[\"ticker\"] == ticker].sort_values(\"date\")\n",
    "        if df.empty:\n",
    "            return {\"error\": f\"Ticker {ticker} not found\"}\n",
    "        \n",
    "        df[\"ret\"] = df[\"close\"].pct_change()\n",
    "        features = {\n",
    "            \"last_price\": df[\"close\"].iloc[-1],\n",
    "            \"returns_7\": df[\"ret\"].tail(7).mean(),\n",
    "            \"vol_7\": df[\"ret\"].tail(7).std(),\n",
    "            \"sma_5\": df[\"close\"].tail(5).mean(),\n",
    "            \"sma_20\": df[\"close\"].tail(20).mean(),\n",
    "        }\n",
    "        return {\"ticker\": ticker, \"features\": features}\n"
   ]
  },
  {
   "cell_type": "code",
   "execution_count": 11,
   "id": "df18c40e-d85a-4c7d-a4aa-42eed558a722",
   "metadata": {},
   "outputs": [],
   "source": [
    "class AnalystAgent:\n",
    "    def run(self, features: Dict[str, Any]) -> Dict[str, Any]:\n",
    "        r, vol = features[\"returns_7\"], features[\"vol_7\"]\n",
    "        sma5, sma20 = features[\"sma_5\"], features[\"sma_20\"]\n",
    "\n",
    "        score = 0\n",
    "        if r > 0.002: score += 1\n",
    "        if sma5 > sma20: score += 1\n",
    "        if vol < 0.02: score += 1\n",
    "\n",
    "        if score >= 2:\n",
    "            action = \"BUY\"\n",
    "        elif score == 1:\n",
    "            action = \"HOLD\"\n",
    "        else:\n",
    "            action = \"SELL\"\n",
    "\n",
    "        explanation = f\"Score={score} | Ret7={r:.4f}, Vol7={vol:.4f}, SMA5={sma5:.2f}, SMA20={sma20:.2f}\"\n",
    "        return {\"action\": action, \"explanation\": explanation, \"confidence\": 0.6 + 0.1*score}\n"
   ]
  },
  {
   "cell_type": "code",
   "execution_count": 9,
   "id": "396add96-adba-499f-8afd-b2b558e916a4",
   "metadata": {},
   "outputs": [],
   "source": [
    "class CriticAgent:\n",
    "    def run(self, analysis: Dict[str, Any]) -> Dict[str, Any]:\n",
    "        action = analysis[\"action\"]\n",
    "        confidence = analysis[\"confidence\"]\n",
    "\n",
    "        critique = []\n",
    "        if confidence < 0.7:\n",
    "            critique.append(\"Confiança baixa, resultado incerto.\")\n",
    "        if action == \"BUY\" and confidence < 0.8:\n",
    "            critique.append(\"A recomendação de compra não é forte.\")\n",
    "        if action == \"SELL\" and \"SMA5\" in analysis.get(\"explanation\", \"\"):\n",
    "            critique.append(\"Verifique tendência de curto prazo antes de vender.\")\n",
    "\n",
    "        return {\"valid\": len(critique) == 0, \"critique\": critique}"
   ]
  },
  {
   "cell_type": "code",
   "execution_count": 6,
   "id": "3bb60ab2-47f2-4ed3-96f9-e1f96c7e7327",
   "metadata": {},
   "outputs": [],
   "source": [
    "class FinancialAdvisorSystem:\n",
    "    def __init__(self, market_agent, analyst_agent, critic_agent):\n",
    "        self.market_agent = market_agent\n",
    "        self.analyst_agent = analyst_agent\n",
    "        self.critic_agent = critic_agent\n",
    "\n",
    "    def run(self, ticker: str) -> Dict[str, Any]:\n",
    "        # 1. Market Agent\n",
    "        market_result = self.market_agent.run(ticker)\n",
    "        if \"error\" in market_result:\n",
    "            return market_result\n",
    "        \n",
    "        # 2. Analyst Agent\n",
    "        analysis = self.analyst_agent.run(market_result[\"features\"])\n",
    "        \n",
    "        # 3. Critic Agent\n",
    "        review = self.critic_agent.run(analysis)\n",
    "        \n",
    "        return {\n",
    "            \"ticker\": ticker,\n",
    "            \"features\": market_result[\"features\"],\n",
    "            \"analysis\": analysis,\n",
    "            \"review\": review\n",
    "        }\n"
   ]
  },
  {
   "cell_type": "code",
   "execution_count": 12,
   "id": "40e810a8-fb76-4fce-9917-bc368e1285f4",
   "metadata": {},
   "outputs": [
    {
     "name": "stdout",
     "output_type": "stream",
     "text": [
      "{'ticker': 'AAPL', 'features': {'last_price': 188.5, 'returns_7': 0.003076245327217048, 'vol_7': 0.004177539702512538, 'sma_5': 187.21999999999997, 'sma_20': 183.19}, 'analysis': {'action': 'BUY', 'explanation': 'Score=3 | Ret7=0.0031, Vol7=0.0042, SMA5=187.22, SMA20=183.19', 'confidence': 0.9}, 'review': {'valid': True, 'critique': []}}\n"
     ]
    }
   ],
   "source": [
    "market_agent = MarketAgent(prices)\n",
    "analyst_agent = AnalystAgent()\n",
    "critic_agent = CriticAgent()\n",
    "\n",
    "advisor = FinancialAdvisorSystem(market_agent, analyst_agent, critic_agent)\n",
    "\n",
    "result = advisor.run(\"AAPL\")\n",
    "print(result)\n"
   ]
  },
  {
   "cell_type": "code",
   "execution_count": null,
   "id": "7be72d61-add9-4e36-a834-88b040c4222f",
   "metadata": {},
   "outputs": [],
   "source": []
  },
  {
   "cell_type": "code",
   "execution_count": null,
   "id": "8b0d1850-c303-4ee8-b214-caf36baf2a34",
   "metadata": {},
   "outputs": [],
   "source": []
  },
  {
   "cell_type": "code",
   "execution_count": null,
   "id": "dedc5ee8-171f-47fc-b716-d5b257945d12",
   "metadata": {},
   "outputs": [],
   "source": []
  }
 ],
 "metadata": {
  "kernelspec": {
   "display_name": "Python 3 (ipykernel)",
   "language": "python",
   "name": "python3"
  },
  "language_info": {
   "codemirror_mode": {
    "name": "ipython",
    "version": 3
   },
   "file_extension": ".py",
   "mimetype": "text/x-python",
   "name": "python",
   "nbconvert_exporter": "python",
   "pygments_lexer": "ipython3",
   "version": "3.9.18"
  }
 },
 "nbformat": 4,
 "nbformat_minor": 5
}
